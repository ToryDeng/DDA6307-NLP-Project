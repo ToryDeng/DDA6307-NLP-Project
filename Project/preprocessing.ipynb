{
 "cells": [
  {
   "cell_type": "code",
   "execution_count": 1,
   "metadata": {},
   "outputs": [],
   "source": [
    "import scanpy as sc\n",
    "import pandas as pd\n",
    "import numpy as np\n",
    "import anndata as ad\n",
    "import matplotlib.pyplot as plt\n",
    "\n",
    "from scgpt.preprocess import Preprocessor\n",
    "from scipy.io import mmread"
   ]
  },
  {
   "cell_type": "markdown",
   "metadata": {},
   "source": [
    "# Multiple sclerosis\n",
    "\n",
    "Download `Normalised counts files (MatrixMarket archive)` at https://www.ebi.ac.uk/gxa/sc/experiments/E-HCAD-35/downloads\n",
    "\n",
    "- retain nuclei with at least 500 genes and 1000 transcripts expressed\n",
    "- Genes expressed in less than three nuclei were filtered out\n",
    "- Mitochondrial RNA genes were filtered out as well to exclude transcripts originating from outside the nucleus and avoid biases introduced by nuclei isolation and ultracentrifugation\n",
    "- UMIs were normalized to the total UMIs per nucleus and log-transformed"
   ]
  },
  {
   "cell_type": "code",
   "execution_count": null,
   "metadata": {},
   "outputs": [],
   "source": [
    "excluded_celltypes = ('B cell', 'T cell', 'oligodendrocyte B')\n",
    "celltype_rep = 'Factor Value[inferred cell type - authors labels]'\n",
    "batch_rep = 'Sample Characteristic[disease]'\n",
    "data_is_raw = False\n",
    "n_bins = 51"
   ]
  },
  {
   "cell_type": "code",
   "execution_count": 103,
   "metadata": {},
   "outputs": [
    {
     "name": "stdout",
     "output_type": "stream",
     "text": [
      "True\n"
     ]
    }
   ],
   "source": [
    "# load the expression matrix\n",
    "expr_mtx = mmread(\"datasets/multiple_sclerosis/E-HCAD-35.aggregated_filtered_counts.mtx\").T.tocsr()  # to support slicing\n",
    "\n",
    "# load experiment design\n",
    "exp_design = pd.read_csv(\"datasets/multiple_sclerosis/ExpDesign-E-HCAD-35.tsv\", sep='\\t', index_col=0)\n",
    "\n",
    "# load cell names\n",
    "cols = pd.read_csv(\"datasets/multiple_sclerosis/E-HCAD-35.aggregated_filtered_counts.mtx_cols\", header=None, names=['cell_id'], sep='\\t')\n",
    "print((cols['cell_id'] == exp_design.index).all())\n",
    "\n",
    "# load gene names\n",
    "rows = pd.read_csv(\"datasets/multiple_sclerosis/E-HCAD-35.aggregated_filtered_counts.mtx_rows\", header=None, names=['feature_id'], sep=\"\\t\", usecols=[0])\n",
    "gene_info = pd.read_csv(\"datasets/gene_info.csv\", index_col=0)\n",
    "rows = rows.merge(gene_info[['feature_id', 'feature_name']], how='left')\n",
    "rows.index = rows.index.astype(str)  # to prevent the warnings: Transforming to str index\n",
    "\n",
    "# create the AnnData objects and save\n",
    "adata = ad.AnnData(X=expr_mtx, obs=exp_design, var=rows)\n",
    "adata_prep = adata[~adata.obs[celltype_rep].isin(excluded_celltypes), ~adata.var['feature_name'].isna()].copy()\n",
    "adata_prep.var_names = adata_prep.var['feature_name']\n",
    "adata_prep.var.drop(columns=['feature_name'], inplace=True)\n",
    "# sc.pp.highly_variable_genes(adata_prep, flavor=\"cell_ranger\", subset=True, n_top_genes=3000, batch_key=batch_rep)\n",
    "adata_control = adata_prep[adata_prep.obs[batch_rep].str.startswith('C')].copy()  # controls\n",
    "adata_ms = adata_prep[adata_prep.obs['Sample Characteristic[individual]'].str.startswith('MS')].copy()  # patients\n",
    "# adata_control.write_h5ad(\"datasets/multiple_sclerosis/controls.h5ad\")\n",
    "# adata_ms.write_h5ad(\"datasets/multiple_sclerosis/patients.h5ad\")"
   ]
  },
  {
   "cell_type": "markdown",
   "metadata": {},
   "source": [
    "- health vs disease\n",
    "- health as train, disease as test, each saved as a `.h5ad` format file respectively\n",
    "- common cell types\n",
    "- cell type labels saved in `.obs['celltype']`\n",
    "- gene names are `.var.index`\n",
    "- raw counts\n",
    "- filter low-quality cells and genes, but do not normalize\n",
    "- use `seurat_v3_paper` and `batch_key` to select **3000** HVGs and subset\n",
    "- adata.X is `ndarray`"
   ]
  },
  {
   "cell_type": "markdown",
   "metadata": {},
   "source": [
    "geneformer\n",
    "\n",
    "change tie to random selection for determining pred labels."
   ]
  }
 ],
 "metadata": {
  "kernelspec": {
   "display_name": "Python 3",
   "language": "python",
   "name": "python3"
  },
  "language_info": {
   "codemirror_mode": {
    "name": "ipython",
    "version": 3
   },
   "file_extension": ".py",
   "mimetype": "text/x-python",
   "name": "python",
   "nbconvert_exporter": "python",
   "pygments_lexer": "ipython3",
   "version": "3.10.14"
  }
 },
 "nbformat": 4,
 "nbformat_minor": 2
}
